{
 "cells": [
  {
   "cell_type": "markdown",
   "metadata": {},
   "source": [
    "# Momentum Based Trading System\n",
    "## Final Project - part 2"
   ]
  },
  {
   "cell_type": "markdown",
   "metadata": {},
   "source": [
    "The goal is to develop a trading system for trading Sector Exchange Traded Funds (ETFs) based on momentum factors derived from past prices of SPDR sector ETFs, the S&P 500 ETF and an ETF that represents cash. We will develop trading rules for buying and selling the Sector ETFs, the S&P index ETF, and the cash ETF. The goal of the system is to outperform the S&P ETF."
   ]
  },
  {
   "cell_type": "markdown",
   "metadata": {},
   "source": [
    "We will download the ETF data from a public source such as Yahoo Finance, Google Finance or Quandl. The daily Open, High, Low and Closing prices and trading volume (if available) will be downloaded for the 10-year year period December 31, 2007 through December 31, 2017. Initially, exploratory analysis will be performed on the data, and any outliers or missing data points will be addressed"
   ]
  },
  {
   "cell_type": "markdown",
   "metadata": {},
   "source": [
    "Then we will develop some signals that will help us decide when to buy or sell each ETF. These will be based on past prices and returns of these ETFs. We will examine different definitions of momentum, and compare the performance of simple scoring algorithms with regression based systems. Finally we will also use Logit regression and Machine Learning algorithms from sklearn to try to improve the performance of the models. "
   ]
  },
  {
   "cell_type": "markdown",
   "metadata": {},
   "source": [
    "Data: The sector ETFs used are from the SPDR family of ETFs, and cover the following sectors: Consumer Discretionary (XLY), Consumer Staples(XLP), Energy (XLE), Materials (XLB), Industrials (XLI), Technology (XLK), Health Care (XLV), Financials (XLF), Utilities (XLU), Telecoms (XTL), Real Estate (XLRE). The S&P 500 index ETF has the symbol SPY. The cash ETF is a short-term money-market ETF, and has the symbol SHV. The cash ETF is a riskless asset, and a place to park the portfolio when none of the other ETFs are chosen for an allocation."
   ]
  },
  {
   "cell_type": "markdown",
   "metadata": {},
   "source": [
    "The alternative definitions of momentum that we will test are:\n",
    "\n",
    "    (1) Simple past returns over different time periods\n",
    "    (2) Slope of a trend line fitted to the log of the price over different time periods\n",
    "    (3) Risk-adjusted past returns (average returns dividend by the standard deviation of returns)\n",
    "    \n",
    "These factors will be constructed and tested over the following time periods (past 1, 3, 6, 9 and 12 months).\n",
    "\n",
    "Time-permitting, we will use other factors in a model to improve the performance of these mommentum factors, including the beta of the ETFs and their risk as measured by the standard deviation. Other potential factors include interest rates and commodity prices."
   ]
  },
  {
   "cell_type": "markdown",
   "metadata": {},
   "source": [
    "The benchmark for this project is the S&P ETF. Our goal is to outperform this ETF over the 10-year period useing the Information Ratio (IR) as the measure of performance. The IR is the ratio of excess returns over the benchmark divided by the tracking error relative to the benchmark."
   ]
  },
  {
   "cell_type": "markdown",
   "metadata": {
    "collapsed": true
   },
   "source": [
    "I have experience is testing similar factor models for country allocation, i.e. allocating a portfolio across different countries. However, the testing was done in a proprietary environment based on Excel Visual Basic. My goal is to use Python for testing and model development. In addition, I will explore the role of Machine Learning including Logistic regression and K-Nearest Neighbors methods to improve the model."
   ]
  }
 ],
 "metadata": {
  "kernelspec": {
   "display_name": "Python 3",
   "language": "python",
   "name": "python3"
  },
  "language_info": {
   "codemirror_mode": {
    "name": "ipython",
    "version": 3
   },
   "file_extension": ".py",
   "mimetype": "text/x-python",
   "name": "python",
   "nbconvert_exporter": "python",
   "pygments_lexer": "ipython3",
   "version": "3.6.3"
  }
 },
 "nbformat": 4,
 "nbformat_minor": 2
}
